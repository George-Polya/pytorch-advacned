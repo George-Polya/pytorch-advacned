{
 "cells": [
  {
   "cell_type": "markdown",
   "source": [
    "# \"1장 화상분류\"의 준비 파일\n",
    "\n",
    "- 1장에서 사용하는 폴더를 만들고 파일을 다운로드합니다.\n"
   ],
   "metadata": {}
  },
  {
   "cell_type": "code",
   "execution_count": 1,
   "source": [
    "import os\n",
    "import urllib.request\n",
    "import zipfile"
   ],
   "outputs": [],
   "metadata": {}
  },
  {
   "cell_type": "code",
   "execution_count": 2,
   "source": [
    "# data 폴더가 존재하지 않는 경우 작성한다\n",
    "data_dir = \"./data/\"\n",
    "if not os.path.exists(data_dir):\n",
    "    os.mkdir(data_dir)\n"
   ],
   "outputs": [],
   "metadata": {}
  },
  {
   "cell_type": "code",
   "execution_count": 3,
   "source": [
    "# ImageNet의 class_index를 다운로드한다\n",
    "# Keras에서 제공하는 항목\n",
    "# https://github.com/fchollet/deep-learning-models/blob/master/imagenet_utils.py\n",
    "\n",
    "url = \"https://s3.amazonaws.com/deep-learning-models/image-models/imagenet_class_index.json\"\n",
    "save_path = os.path.join(data_dir, \"imagenet_class_index.json\")\n",
    "\n",
    "if not os.path.exists(save_path):\n",
    "    urllib.request.urlretrieve(url, save_path)\n"
   ],
   "outputs": [],
   "metadata": {}
  },
  {
   "cell_type": "code",
   "execution_count": 4,
   "source": [
    "# 1.3절에서 사용하는 개미와 벌의 화상 데이터를 다운로드하여 압축을 해제한다\n",
    "# PyTorch의 튜토리얼로 제공되는 항목\n",
    "# https://pytorch.org/tutorials/beginner/transfer_learning_tutorial.html\n",
    "\n",
    "url = \"https://download.pytorch.org/tutorial/hymenoptera_data.zip\"\n",
    "save_path = os.path.join(data_dir, \"hymenoptera_data.zip\")\n",
    "\n",
    "if not os.path.exists(save_path):\n",
    "    urllib.request.urlretrieve(url, save_path)\n",
    "\n",
    "    # ZIP 파일을 읽는다\n",
    "    zip = zipfile.ZipFile(save_path)\n",
    "    zip.extractall(data_dir)  # ZIP을 압축 해제\n",
    "    zip.close()  # ZIP 파일을 닫는다\n",
    "\n",
    "    # ZIP 파일을 삭제\n",
    "    os.remove(save_path)\n"
   ],
   "outputs": [],
   "metadata": {}
  },
  {
   "cell_type": "markdown",
   "source": [
    "※실시 완료 사항\n",
    "\n",
    "골든 리트리버 이미지를 수동 다운로드\n",
    "\n",
    "https://pixabay.com/ja/photos/goldenretriever-%E7%8A%AC-3724972/\n",
    "의 640×426 사이즈 화상\n",
    "(사진 권리 정보: CC0 Creative Commons, 상용 이용 무료, 저작자 표시 필요 없음)을, data 폴더 바로 아래에 배치함."
   ],
   "metadata": {}
  },
  {
   "cell_type": "markdown",
   "source": [
    "끝"
   ],
   "metadata": {}
  }
 ],
 "metadata": {
  "kernelspec": {
   "name": "python3",
   "display_name": "Python 3.7.10 64-bit ('tf2.5': conda)"
  },
  "language_info": {
   "codemirror_mode": {
    "name": "ipython",
    "version": 3
   },
   "file_extension": ".py",
   "mimetype": "text/x-python",
   "name": "python",
   "nbconvert_exporter": "python",
   "pygments_lexer": "ipython3",
   "version": "3.7.10"
  },
  "interpreter": {
   "hash": "8713644ccf95bc94f9cdb73f3820952989f55b48f58b1b4cb3d9529941d252d1"
  }
 },
 "nbformat": 4,
 "nbformat_minor": 2
}