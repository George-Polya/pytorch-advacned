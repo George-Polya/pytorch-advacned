{
 "cells": [
  {
   "cell_type": "markdown",
   "source": [
    "# \"2장 물체 감지\"의 준비 파일\n",
    "\n",
    "- 2장에서 사용하는 파일 작성 및 폴더 다운로드를 수행합니다."
   ],
   "metadata": {}
  },
  {
   "cell_type": "code",
   "execution_count": 1,
   "source": [
    "import os\n",
    "import urllib.request\n",
    "import zipfile\n",
    "import tarfile"
   ],
   "outputs": [],
   "metadata": {}
  },
  {
   "cell_type": "code",
   "execution_count": 2,
   "source": [
    "# \"data\" 폴더가 존재하지 않는 경우 작성한다\n",
    "data_dir = \"./data/\"\n",
    "if not os.path.exists(data_dir):\n",
    "    os.mkdir(data_dir)"
   ],
   "outputs": [],
   "metadata": {}
  },
  {
   "cell_type": "code",
   "execution_count": 3,
   "source": [
    "# \"weights\" 폴더가 존재하지 않는 경우 작성한다\n",
    "weights_dir = \"./weights/\"\n",
    "if not os.path.exists(weights_dir):\n",
    "    os.mkdir(weights_dir)"
   ],
   "outputs": [],
   "metadata": {}
  },
  {
   "cell_type": "code",
   "execution_count": 4,
   "source": [
    "# VOC2012의 데이터 세트를 여기서 다운로드합니다\n",
    "# 시간이 걸립니다(약 15분)\n",
    "url = \"http://host.robots.ox.ac.uk/pascal/VOC/voc2012/VOCtrainval_11-May-2012.tar\"\n",
    "target_path = os.path.join(data_dir, \"VOCtrainval_11-May-2012.tar\") \n",
    "\n",
    "if not os.path.exists(target_path):\n",
    "    urllib.request.urlretrieve(url, target_path)\n",
    "    \n",
    "    tar = tarfile.TarFile(target_path)  # tar 파일 읽기\n",
    "    tar.extractall(data_dir)  # tar를 압축 해제\n",
    "    tar.close()  # tar 파일 닫기\n",
    "    "
   ],
   "outputs": [],
   "metadata": {}
  },
  {
   "cell_type": "code",
   "execution_count": 5,
   "source": [
    "# 학습된 SSD용의 VGG 파라미터를 \"weights\" 폴더에 다운로드\n",
    "# MIT License\n",
    "# Copyright (c) 2017 Max deGroot, Ellis Brown\n",
    "# https://github.com/amdegroot/ssd.pytorch\n",
    "    \n",
    "url = \"https://s3.amazonaws.com/amdegroot-models/vgg16_reducedfc.pth\"\n",
    "target_path = os.path.join(weights_dir, \"vgg16_reducedfc.pth\") \n",
    "\n",
    "if not os.path.exists(target_path):\n",
    "    urllib.request.urlretrieve(url, target_path)"
   ],
   "outputs": [],
   "metadata": {}
  },
  {
   "cell_type": "code",
   "execution_count": 6,
   "source": [
    "# 학습된 SSD300 모델을 \"weights\" 폴더에 다운로드\n",
    "# MIT License\n",
    "# Copyright (c) 2017 Max deGroot, Ellis Brown\n",
    "# https://github.com/amdegroot/ssd.pytorch\n",
    "\n",
    "url = \"https://s3.amazonaws.com/amdegroot-models/ssd300_mAP_77.43_v2.pth\"\n",
    "target_path = os.path.join(weights_dir, \"ssd300_mAP_77.43_v2.pth\") \n",
    "\n",
    "if not os.path.exists(target_path):\n",
    "    urllib.request.urlretrieve(url, target_path)\n"
   ],
   "outputs": [],
   "metadata": {}
  },
  {
   "cell_type": "code",
   "execution_count": 7,
   "source": [
    "※미리 실시된 내용\n",
    "\n",
    "수동으로 승마 화상 다운로드\n",
    "\n",
    "https://pixabay.com/ja/photos/%E3%82%AB%E3%82%A6%E3%83%9C%E3%83%BC%E3%82%A4-%E9%A6%AC-%E4%B9%97%E9%A6%AC-%E6%B0%B4-%E6%B5%B7-757575/\n",
    "640×426 크기의 화상을 \"data\" 폴더에 배치\n",
    "(사진의 권리 정보: 상업적 사용 무료, 저작자 표시가 필요하지 않습니다)\n",
    "\n"
   ],
   "outputs": [
    {
     "output_type": "error",
     "ename": "SyntaxError",
     "evalue": "invalid character in identifier (<ipython-input-7-cb065c7a4b2c>, line 1)",
     "traceback": [
      "\u001b[0;36m  File \u001b[0;32m\"<ipython-input-7-cb065c7a4b2c>\"\u001b[0;36m, line \u001b[0;32m1\u001b[0m\n\u001b[0;31m    ※미리 실시된 내용\u001b[0m\n\u001b[0m      ^\u001b[0m\n\u001b[0;31mSyntaxError\u001b[0m\u001b[0;31m:\u001b[0m invalid character in identifier\n"
     ]
    }
   ],
   "metadata": {}
  },
  {
   "cell_type": "code",
   "execution_count": null,
   "source": [
    "(필자가 작성한) 학습된 SSD300 모델 \"ssd300_50.pth\"\n",
    "https://drive.google.com/open?id=1_zTTYQ2j0r-Qe3VBbHzvURD0c1P2ZSE9   \n",
    "    \n",
    "    \n",
    "반드시 다운로드할 필요는 없지만,\n",
    "스스로 SSD 네트워크를 학습하기 전에, 학습된 모델을 미리 시도해보는 경우,\n",
    "위 링크에서 수동으로 다운로드한 \"ssd300_50.pth\" 파일을 \"weights\" 폴더에 배치합니다.\n"
   ],
   "outputs": [],
   "metadata": {}
  },
  {
   "cell_type": "markdown",
   "source": [
    "끝"
   ],
   "metadata": {}
  }
 ],
 "metadata": {
  "kernelspec": {
   "name": "python3",
   "display_name": "Python 3.7.10 64-bit ('tf2.5': conda)"
  },
  "language_info": {
   "codemirror_mode": {
    "name": "ipython",
    "version": 3
   },
   "file_extension": ".py",
   "mimetype": "text/x-python",
   "name": "python",
   "nbconvert_exporter": "python",
   "pygments_lexer": "ipython3",
   "version": "3.7.10"
  },
  "interpreter": {
   "hash": "8713644ccf95bc94f9cdb73f3820952989f55b48f58b1b4cb3d9529941d252d1"
  }
 },
 "nbformat": 4,
 "nbformat_minor": 2
}