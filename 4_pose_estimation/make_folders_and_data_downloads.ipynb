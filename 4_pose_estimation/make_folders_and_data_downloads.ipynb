{
 "cells": [
  {
   "cell_type": "markdown",
   "source": [
    "#  \"4장 자세추정\"의 준비 파일\n",
    "\n",
    "- 4장에서 사용하는 파일을 작성하고 폴더를 다운로드합니다."
   ],
   "metadata": {}
  },
  {
   "cell_type": "code",
   "execution_count": 1,
   "source": [
    "import os\n",
    "import urllib.request\n",
    "import zipfile\n",
    "import tarfile"
   ],
   "outputs": [],
   "metadata": {}
  },
  {
   "cell_type": "code",
   "execution_count": 2,
   "source": [
    "# \"data\" 폴더가 존재하지 않는 경우 작성한다\n",
    "data_dir = \"./data/\"\n",
    "if not os.path.exists(data_dir):\n",
    "    os.mkdir(data_dir)"
   ],
   "outputs": [],
   "metadata": {}
  },
  {
   "cell_type": "code",
   "execution_count": 3,
   "source": [
    "# \"weights\" 폴더가 존재하지 않는 경우 작성한다\n",
    "weights_dir = \"./weights/\"\n",
    "if not os.path.exists(weights_dir):\n",
    "    os.mkdir(weights_dir)"
   ],
   "outputs": [],
   "metadata": {}
  },
  {
   "cell_type": "code",
   "execution_count": 4,
   "source": [
    "# MSCOCO의 2014 Val images [41K/6GB]를 다운로드\n",
    "# 6GB 파일의 다운로드 및 압축 해제에 시간이 걸립니다(약 10분)\n",
    "url =  \"http://images.cocodataset.org/zips/val2014.zip\"\n",
    "target_path = os.path.join(data_dir, \"val2014.zip\") \n",
    "\n",
    "if not os.path.exists(target_path):\n",
    "    urllib.request.urlretrieve(url, target_path)\n",
    "    \n",
    "    zip = zipfile.ZipFile(target_path)\n",
    "    zip.extractall(data_dir)  # ZIP 파일 압축 해제\n",
    "    zip.close()  # ZIP 파일 닫기"
   ],
   "outputs": [],
   "metadata": {}
  },
  {
   "cell_type": "markdown",
   "source": [
    "## tensorboy의 GitHub에서 필요한 데이터를 수동으로 다운로드\n",
    "\n",
    "tensorboy가 COCODataset에서 사용하기 쉽도록 가공한 데이터를 이용합니다\n",
    "\n",
    "https://github.com/tensorboy/pytorch_Realtime_Multi-Person_Pose_Estimation\n",
    "\n",
    "Released under the MIT license"
   ],
   "metadata": {}
  },
  {
   "cell_type": "code",
   "execution_count": 5,
   "source": [
    "# 화상 데이터의 어노테이션 데이터를 정리한 \"COCO.json\" 파일을 다운로드합니다\n",
    "\n",
    "\"data\" 폴더에 이하 데이터를 배치\n",
    "\"COCO.json\" 어노테이션 데이터\n",
    "\n",
    "https://www.dropbox.com/s/0sj2q24hipiiq5t/COCO.json?dl=0"
   ],
   "outputs": [
    {
     "output_type": "error",
     "ename": "SyntaxError",
     "evalue": "invalid syntax (<ipython-input-5-1a4b9e6226c6>, line 3)",
     "traceback": [
      "\u001b[0;36m  File \u001b[0;32m\"<ipython-input-5-1a4b9e6226c6>\"\u001b[0;36m, line \u001b[0;32m3\u001b[0m\n\u001b[0;31m    \"data\" 폴더에 이하 데이터를 배치\u001b[0m\n\u001b[0m             ^\u001b[0m\n\u001b[0;31mSyntaxError\u001b[0m\u001b[0;31m:\u001b[0m invalid syntax\n"
     ]
    }
   ],
   "metadata": {}
  },
  {
   "cell_type": "code",
   "execution_count": null,
   "source": [
    "# 화상 중에서 어노테이션 데이터(사람의 관절 위치 정보)가 없는 사람 부분을 마스크하는 데이터를 준비합니다\n",
    "\n",
    "\"data\" 폴더에 이하 데이터를 배치\n",
    "\"mask.tar.gz\" 마스크 데이터\n",
    "\n",
    "https://www.dropbox.com/s/bd9ty7b4fqd5ebf/mask.tar.gz?dl=0"
   ],
   "outputs": [],
   "metadata": {}
  },
  {
   "cell_type": "markdown",
   "source": [
    "## mask.tar.gz 압축 해제"
   ],
   "metadata": {}
  },
  {
   "cell_type": "code",
   "execution_count": 6,
   "source": [
    "# mask.tar.gz 압축 해제\n",
    "save_path = os.path.join(data_dir, \"mask.tar.gz\") \n",
    "\n",
    "with tarfile.open(save_path, 'r:*') as tar:\n",
    "    tar.extractall(data_dir)"
   ],
   "outputs": [],
   "metadata": {}
  },
  {
   "cell_type": "markdown",
   "source": [
    "# 학습된 모델을 다운로드"
   ],
   "metadata": {}
  },
  {
   "cell_type": "code",
   "execution_count": null,
   "source": [
    "# tensorboy의 학습된 OpenPose 모델 \"pspnet50_30.pth\"를 준비합니다\n",
    "\n",
    "\"weights\" 폴더에 이하 데이터를 배치\n",
    "학습된 모델 \"pose_model_scratch.pth\"\n",
    "\n",
    "https://www.dropbox.com/s/5v654d2u65fuvyr/pose_model_scratch.pth?dl=0\n",
    "    \n"
   ],
   "outputs": [],
   "metadata": {}
  },
  {
   "cell_type": "code",
   "execution_count": null,
   "source": [
    "※실시 완료\n",
    "야구 화상을 수동으로 다운로드\n",
    "\n",
    "https://pixabay.com/ja/photos/%E3%83%92%E3%83%83%E3%83%88-%E3%82%AD%E3%83%A3%E3%83%83%E3%83%81%E3%83%A3%E3%83%BC-%E9%87%8E%E7%90%83-1407826/\n",
    "\n",
    "640×426 크기의 화상을 \"data\" 폴더에 배치\n",
    "(사진의 권리 정보: 상업적 사용 무료, 저작자 표시가 필요하지 않습니다)"
   ],
   "outputs": [],
   "metadata": {}
  },
  {
   "cell_type": "markdown",
   "source": [
    "끝"
   ],
   "metadata": {}
  }
 ],
 "metadata": {
  "kernelspec": {
   "name": "python3",
   "display_name": "Python 3.7.10 64-bit ('tf2.5': conda)"
  },
  "language_info": {
   "codemirror_mode": {
    "name": "ipython",
    "version": 3
   },
   "file_extension": ".py",
   "mimetype": "text/x-python",
   "name": "python",
   "nbconvert_exporter": "python",
   "pygments_lexer": "ipython3",
   "version": "3.7.10"
  },
  "interpreter": {
   "hash": "8713644ccf95bc94f9cdb73f3820952989f55b48f58b1b4cb3d9529941d252d1"
  }
 },
 "nbformat": 4,
 "nbformat_minor": 2
}