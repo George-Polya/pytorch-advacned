{
 "cells": [
  {
   "cell_type": "markdown",
   "metadata": {},
   "source": [
    "# 9.4.1 Kinetics 동영상 다운로드\n",
    "\n",
    "Kinetics 동영상을 다운로드합니다\n"
   ]
  },
  {
   "cell_type": "markdown",
   "metadata": {},
   "source": [
    "## 해설"
   ]
  },
  {
   "cell_type": "markdown",
   "metadata": {},
   "source": [
    "https://github.com/activitynet/ActivityNet/tree/master/Crawler/Kinetics\n",
    "\n",
    "의 Kinetics 동영상 다운로드 환경을 이용합니다.\n",
    "\n",
    "Python2 계열이므로, 새로운 가상 환경을 작성합니다.\n",
    "현재 디렉터리는 Ubuntu의 home입니다.\n",
    "\n",
    "다음 명령을 터미널에서 실행하여, \"video_download\" 폴더의 \"environment.yml\" 파일에 기재한 패키지를 설치한 가상환경을 만듭니다\n",
    "\n",
    "- source deactivate\n",
    "\n",
    "- conda env create -f ./9_video_classification_eco/video_download/environment.yml\n",
    "\n",
    "작성한 가상 환경에 들어갑니다\n",
    "\n",
    "- source activate kinetics\n",
    "\n",
    "youtube-dl 패키지를 업데이트하여 설치합니다\n",
    "\n",
    "- pip install --upgrade youtube-dl\n",
    "\n",
    "- pip install --upgrade joblib\n",
    "\n",
    "이로써 준비되었으므로, JupyteNotebook를 기동시켜, 이 파일을 실행합니다\n",
    "\n",
    "- jupyter notebook --port 9999\n"
   ]
  },
  {
   "cell_type": "code",
   "execution_count": 1,
   "metadata": {},
   "outputs": [
    {
     "name": "stdout",
     "output_type": "stream",
     "text": [
      "./tmp/kinetics/3bafddcc-b0dd-4e7c-88b0-b373fc312c18.%(ext)s\n",
      "./tmp/kinetics/4ffcfa3a-b1a0-4594-904c-34d6788e9535.%(ext)s\n",
      "./tmp/kinetics/bfd4bfb0-124d-483d-b2c1-0b94a26d8278.%(ext)s\n",
      "./tmp/kinetics/d424ee27-073d-4304-9283-0932ac6ae0c2.%(ext)s\n",
      "./tmp/kinetics/24c4cbe6-dfb1-4223-82ae-deb94690ad27.%(ext)s\n",
      "./tmp/kinetics/f7fd4e34-d68d-42a1-9738-135e315dc277.%(ext)s\n",
      "./tmp/kinetics/34b2a09a-1160-43a8-8a8c-c443ce887dda.%(ext)s\n",
      "./tmp/kinetics/3fdef458-ccc5-47db-8567-e1d347d17809.%(ext)s\n"
     ]
    }
   ],
   "source": [
    "import os\n",
    "import joblib\n",
    "# data 폴더가 없으면 작성한다\n",
    "data_dir = \"./data/\"\n",
    "if not os.path.exists(data_dir):\n",
    "    os.mkdir(data_dir)\n",
    "    \n",
    "# \"kinetics_videos\" 폴더가 없으면 작성한다\n",
    "data_dir = \"./data/kinetics_videos/\"\n",
    "if not os.path.exists(data_dir):\n",
    "    os.mkdir(data_dir)\n",
    "    \n",
    "    \n",
    "# \"video_download\" 폴더의 pytnon 파일인 \"download.py\"을 실행합니다\n",
    "# 취득할 youtube 데이터는 \"video_download\" 폴더의 kinetics-400_val_8videos.csv에 기재한 8개의 동영상입니다\n",
    "# 저장할 곳은 \"data\" 내의 \"kinetics_videos\" 폴더입니다\n",
    "!python2 ./video_download/download.py ./video_download/kinetics-400_val_8videos.csv ./data/kinetics_videos/\n",
    "    "
   ]
  },
  {
   "cell_type": "markdown",
   "metadata": {},
   "source": [
    "끝"
   ]
  },
  {
   "cell_type": "markdown",
   "metadata": {},
   "source": []
  }
 ],
 "metadata": {
  "kernelspec": {
   "display_name": "Python 3",
   "language": "python",
   "name": "python3"
  },
  "language_info": {
   "codemirror_mode": {
    "name": "ipython",
    "version": 2
   },
   "file_extension": ".py",
   "mimetype": "text/x-python",
   "name": "python",
   "nbconvert_exporter": "python",
   "pygments_lexer": "ipython2",
   "version": "2.7.15"
  }
 },
 "nbformat": 4,
 "nbformat_minor": 2
}
