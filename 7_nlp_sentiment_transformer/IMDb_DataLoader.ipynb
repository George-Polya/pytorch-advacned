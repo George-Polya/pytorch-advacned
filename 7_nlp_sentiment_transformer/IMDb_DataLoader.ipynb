{
 "cells": [
  {
   "cell_type": "markdown",
   "metadata": {},
   "source": [
    "## IMDb 데이터셋을 tsv형식으로 변환"
   ]
  },
  {
   "cell_type": "code",
   "execution_count": 1,
   "metadata": {},
   "outputs": [],
   "source": [
    "import glob\n",
    "import os\n",
    "import io\n",
    "import string\n",
    "\n",
    "f = open(\"./data/IMDb_train.tsv\" , \"w\")\n",
    "\n",
    "path = \"./data/aclImdb/train/pos/\"\n",
    "\n",
    "for fname in glob.glob(os.path.join(path, \"*.txt\")):\n",
    "    with io.open(fname, 'r', encoding=\"utf-8\") as ff:\n",
    "        text = ff.readline()\n",
    "\n",
    "        text = text.replace(\"\\t\", \" \")\n",
    "        text = text+\"\\t\"+\"1\"+\"\\t\"+\"\\n\"\n",
    "        f.write(text)\n",
    "\n",
    "path = \"./data/aclImdb/train/neg/\"\n",
    "for fname in glob.glob(os.path.join(path, \"*.txt\")):\n",
    "    with io.open(fname, 'r', encoding=\"utf-8\") as ff:\n",
    "        text = ff.readline()\n",
    "\n",
    "        text = text.replace(\"\\t\" ,\" \")\n",
    "        text = text+\"\\t\"+\"0\"+\"\\t\"+\"\\n\"\n",
    "        f.write(text)\n",
    "\n",
    "f.close()"
   ]
  },
  {
   "cell_type": "code",
   "execution_count": 2,
   "metadata": {},
   "outputs": [],
   "source": [
    "\n",
    "f = open(\"./data/IMDb_text.tsv\" , \"w\")\n",
    "\n",
    "path = \"./data/aclImdb/test/pos/\"\n",
    "\n",
    "for fname in glob.glob(os.path.join(path, \"*.txt\")):\n",
    "    with io.open(fname, 'r', encoding=\"utf-8\") as ff:\n",
    "        text = ff.readline()\n",
    "\n",
    "        text = text.replace(\"\\t\", \" \")\n",
    "        text = text+\"\\t\"+\"1\"+\"\\t\"+\"\\n\"\n",
    "        f.write(text)\n",
    "\n",
    "path = \"./data/aclImdb/test/neg/\"\n",
    "for fname in glob.glob(os.path.join(path, \"*.txt\")):\n",
    "    with io.open(fname, 'r', encoding=\"utf-8\") as ff:\n",
    "        text = ff.readline()\n",
    "\n",
    "        text = text.replace(\"\\t\" ,\" \")\n",
    "        text = text+\"\\t\"+\"0\"+\"\\t\"+\"\\n\"\n",
    "        f.write(text)\n",
    "\n",
    "f.close()"
   ]
  },
  {
   "cell_type": "markdown",
   "metadata": {},
   "source": [
    "## 전처리 및 단어 분할 함수 정의"
   ]
  },
  {
   "cell_type": "code",
   "execution_count": 3,
   "metadata": {},
   "outputs": [
    {
     "name": "stdout",
     "output_type": "stream",
     "text": [
      "구두 점 문자 :  !\"#$%&'()*+,-./:;<=>?@[\\]^_`{|}~\n",
      "['I', 'like', 'cats', '.']\n"
     ]
    }
   ],
   "source": [
    "import string\n",
    "import re\n",
    "\n",
    "print(\"구두 점 문자 : \", string.punctuation)\n",
    "\n",
    "def preprocessing_text(text):\n",
    "    text = re.sub(\"<br />\", '', text)\n",
    "\n",
    "    for p in string.punctuation:\n",
    "        if (p ==\".\") or (p==\",\"):\n",
    "            continue\n",
    "        else:\n",
    "            text = text.replace(p, \" \")\n",
    "\n",
    "    text = text.replace(\".\", \" . \")\n",
    "    text = text.replace(\",\", \" , \")\n",
    "    return text\n",
    "\n",
    "\n",
    "def tokenizer_punctuation(text):\n",
    "    return text.strip().split()\n",
    "\n",
    "def tokenizer_with_preprocessing(text):\n",
    "    text = preprocessing_text(text)\n",
    "    ret = tokenizer_punctuation(text)\n",
    "    return ret\n",
    "\n",
    "print(tokenizer_with_preprocessing(\"I like cats.\"))\n",
    "\n",
    "\n",
    "\n"
   ]
  },
  {
   "cell_type": "markdown",
   "metadata": {},
   "source": [
    "## 데이터 로더 작성"
   ]
  },
  {
   "cell_type": "code",
   "execution_count": null,
   "metadata": {},
   "outputs": [],
   "source": []
  }
 ],
 "metadata": {
  "interpreter": {
   "hash": "f0c8f38a05a53c2939c3a449707bff7fbed115767dc1eebd5b471500306b379e"
  },
  "kernelspec": {
   "display_name": "Python 3.7.10 64-bit ('tf2.5': conda)",
   "name": "python3"
  },
  "language_info": {
   "codemirror_mode": {
    "name": "ipython",
    "version": 3
   },
   "file_extension": ".py",
   "mimetype": "text/x-python",
   "name": "python",
   "nbconvert_exporter": "python",
   "pygments_lexer": "ipython3",
   "version": "3.7.10"
  },
  "orig_nbformat": 4
 },
 "nbformat": 4,
 "nbformat_minor": 2
}
