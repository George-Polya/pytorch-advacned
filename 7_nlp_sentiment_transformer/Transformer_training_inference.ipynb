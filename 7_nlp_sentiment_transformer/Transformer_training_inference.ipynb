{
 "cells": [
  {
   "cell_type": "markdown",
   "metadata": {},
   "source": [
    "# Transformer 학습/추론"
   ]
  },
  {
   "cell_type": "code",
   "execution_count": 1,
   "metadata": {},
   "outputs": [],
   "source": [
    "# 패키지 import\n",
    "import numpy as np\n",
    "import random\n",
    "\n",
    "import torch\n",
    "import torch.nn as nn\n",
    "import torch.optim as optim\n",
    "\n",
    "import torchtext\n",
    "\n",
    "# 난수 시드 설정\n",
    "torch.manual_seed(1234)\n",
    "np.random.seed(1234)\n",
    "random.seed(1234)"
   ]
  },
  {
   "cell_type": "markdown",
   "metadata": {},
   "source": [
    "## 데이터로더 및 Transformer 모델 준비"
   ]
  },
  {
   "cell_type": "code",
   "execution_count": 2,
   "metadata": {},
   "outputs": [
    {
     "name": "stdout",
     "output_type": "stream",
     "text": [
      "네트워크 설정 완료\n"
     ]
    }
   ],
   "source": [
    "from utils.dataloader import get_IMDb_DataLoaders_and_TEXT\n",
    "\n",
    "train_dl, val_dl, test_dl, TEXT = get_IMDb_DataLoaders_and_TEXT(max_length=256, batch_size=64)\n",
    "\n",
    "dataloaders_dict = {\"train\":train_dl, \"val\":val_dl}\n",
    "\n",
    "from utils.transformer import TransformerClassification\n",
    "\n",
    "net = TransformerClassification(text_embedding_vectors=TEXT.vocab.vectors, d_model=300, max_seq_len=256, output_dim=2)\n",
    "\n",
    "def weights_init(m):\n",
    "    classname = m.__class__.__name__\n",
    "    if classname.find(\"Linear\") != -1:\n",
    "        nn.init.kaiming_normal_(m.weight)\n",
    "        if m.bias is not None:\n",
    "            nn.init.constant_(m.bias, 0.0)\n",
    "\n",
    "net.train()\n",
    "\n",
    "net.net3_1.apply(weights_init)\n",
    "net.net3_2.apply(weights_init)\n",
    "\n",
    "print(\"네트워크 설정 완료\")\n",
    "\n"
   ]
  },
  {
   "cell_type": "code",
   "execution_count": 3,
   "metadata": {},
   "outputs": [],
   "source": [
    "criterion = nn.CrossEntropyLoss()\n",
    "\n",
    "learning_rate = 2e-5\n",
    "optimizer = optim.Adam(net.parameters(), lr=learning_rate)"
   ]
  },
  {
   "cell_type": "markdown",
   "metadata": {},
   "source": [
    "## 훈련 및 검증 함수의 구현과 실행"
   ]
  },
  {
   "cell_type": "code",
   "execution_count": 4,
   "metadata": {},
   "outputs": [],
   "source": [
    "def train_model(net, dataloaders_dict, criterion, optimizer, num_epochs):\n",
    "    device = torch.device(\"cuda:0\" if torch.cuda.is_available() else \"cpu\")\n",
    "    print(\"사용 장치 : \", device)\n",
    "    print(\"---------start-----------\")\n",
    "    net.to(device)\n",
    "\n",
    "    torch.backends.cudnn.benchmark = True\n",
    "\n",
    "    for epoch in range(num_epochs):\n",
    "        for phase in [\"train\", \"val\"]:\n",
    "            if phase == \"train\":\n",
    "                net.train()\n",
    "            else:\n",
    "                net.eval()\n",
    "            epoch_loss = 0.0\n",
    "            epoch_corrects = 0\n",
    "\n",
    "            for batch in (dataloaders_dict[phase]):\n",
    "                inputs = batch.Text[0].to(device)\n",
    "                labels = batch.Label.to(device)\n",
    "\n",
    "                optimizer.zero_grad()\n",
    "\n",
    "                with torch.set_grad_enabled(phase==\"train\"):\n",
    "                    input_pad = 1\n",
    "                    input_mask = (inputs != input_pad)\n",
    "\n",
    "                    outputs, _, _ = net(inputs, input_mask)\n",
    "                    loss = criterion(outputs, labels)\n",
    "\n",
    "                    _, preds = torch.max(outputs, 1)\n",
    "\n",
    "                    if phase ==\"train\":\n",
    "                        loss.backward()\n",
    "                        optimizer.step()\n",
    "\n",
    "                    epoch_loss += loss.item() * inputs.size(0)\n",
    "                    epoch_corrects += torch.sum(preds == labels.data)\n",
    "\n",
    "            epoch_loss = epoch_loss / len(dataloaders_dict[phase].dataset)\n",
    "            epoch_acc = epoch_corrects.double() / len(dataloaders_dict[phase].dataset)\n",
    "\n",
    "            print('Epoch {}/{} | {:^5} |  Loss: {:.4f} Acc: {:.4f}'.format(epoch+1, num_epochs,\n",
    "                                                                           phase, epoch_loss, epoch_acc))\n",
    "\n",
    "    return net\n"
   ]
  },
  {
   "cell_type": "code",
   "execution_count": 5,
   "metadata": {},
   "outputs": [
    {
     "name": "stdout",
     "output_type": "stream",
     "text": [
      "사용 장치 :  cuda:0\n",
      "---------start-----------\n",
      "Epoch 1/10 | train |  Loss: 0.5963 Acc: 0.6646\n",
      "Epoch 1/10 |  val  |  Loss: 0.4431 Acc: 0.8004\n",
      "Epoch 2/10 | train |  Loss: 0.4439 Acc: 0.7970\n",
      "Epoch 2/10 |  val  |  Loss: 0.3887 Acc: 0.8304\n",
      "Epoch 3/10 | train |  Loss: 0.4078 Acc: 0.8156\n",
      "Epoch 3/10 |  val  |  Loss: 0.3744 Acc: 0.8404\n",
      "Epoch 4/10 | train |  Loss: 0.3862 Acc: 0.8276\n",
      "Epoch 4/10 |  val  |  Loss: 0.3597 Acc: 0.8498\n",
      "Epoch 5/10 | train |  Loss: 0.3710 Acc: 0.8383\n",
      "Epoch 5/10 |  val  |  Loss: 0.3512 Acc: 0.8550\n",
      "Epoch 6/10 | train |  Loss: 0.3579 Acc: 0.8425\n",
      "Epoch 6/10 |  val  |  Loss: 0.3549 Acc: 0.8520\n",
      "Epoch 7/10 | train |  Loss: 0.3502 Acc: 0.8468\n",
      "Epoch 7/10 |  val  |  Loss: 0.3434 Acc: 0.8578\n",
      "Epoch 8/10 | train |  Loss: 0.3438 Acc: 0.8500\n",
      "Epoch 8/10 |  val  |  Loss: 0.3522 Acc: 0.8530\n",
      "Epoch 9/10 | train |  Loss: 0.3376 Acc: 0.8518\n",
      "Epoch 9/10 |  val  |  Loss: 0.3563 Acc: 0.8536\n",
      "Epoch 10/10 | train |  Loss: 0.3290 Acc: 0.8588\n",
      "Epoch 10/10 |  val  |  Loss: 0.3686 Acc: 0.8506\n"
     ]
    }
   ],
   "source": [
    "num_epochs = 10\n",
    "net_trained = train_model(net, dataloaders_dict, criterion, optimizer, num_epochs=num_epochs)"
   ]
  },
  {
   "cell_type": "code",
   "execution_count": 6,
   "metadata": {},
   "outputs": [
    {
     "name": "stdout",
     "output_type": "stream",
     "text": [
      "테스트 데이터 25000개의 정답률: 53.6138\n"
     ]
    }
   ],
   "source": [
    "device = torch.device(\"cuda:0\" if torch.cuda.is_available() else \"cpu\")\n",
    "\n",
    "net_trained.eval()\n",
    "net_trained.to(device)\n",
    "\n",
    "epoch_corrects = 0\n",
    "\n",
    "for batch in test_dl:\n",
    "    inputs = batch.Text[0].to(device)\n",
    "    labels = batch.Label.to(device)\n",
    "\n",
    "    with torch.set_grad_enabled(False):\n",
    "        input_pad = 1\n",
    "        input_mask = (inputs != input_pad)\n",
    "\n",
    "        outputs, _, _ = net_trained(inputs, input_mask)\n",
    "        _, preds = torch.max(outputs, 1)\n",
    "\n",
    "        epoch_corrects += torch.sum(preds == labels.data)\n",
    "\n",
    "epoch_acc = epoch_corrects.double() / len(test_dl)\n",
    "print('테스트 데이터 {}개의 정답률: {:.4f}'.format(len(test_dl.dataset),epoch_acc))"
   ]
  },
  {
   "cell_type": "code",
   "execution_count": null,
   "metadata": {},
   "outputs": [],
   "source": []
  }
 ],
 "metadata": {
  "interpreter": {
   "hash": "f0c8f38a05a53c2939c3a449707bff7fbed115767dc1eebd5b471500306b379e"
  },
  "kernelspec": {
   "display_name": "Python 3.7.10 64-bit ('tf2.5': conda)",
   "name": "python3"
  },
  "language_info": {
   "codemirror_mode": {
    "name": "ipython",
    "version": 3
   },
   "file_extension": ".py",
   "mimetype": "text/x-python",
   "name": "python",
   "nbconvert_exporter": "python",
   "pygments_lexer": "ipython3",
   "version": "3.7.10"
  },
  "orig_nbformat": 4
 },
 "nbformat": 4,
 "nbformat_minor": 2
}
